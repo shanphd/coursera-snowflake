{
 "metadata": {
  "kernelspec": {
   "display_name": "Streamlit Notebook",
   "name": "streamlit"
  }
 },
 "nbformat_minor": 5,
 "nbformat": 4,
 "cells": [
  {
   "cell_type": "markdown",
   "id": "a1ca81f1-6734-4f50-90b0-10531daa0427",
   "metadata": {
    "name": "cell1",
    "collapsed": false
   },
   "source": "# COURSERA SNOWFLAKE PROJECT"
  },
  {
   "cell_type": "code",
   "id": "28010d33-11d8-4503-b68f-d10dd42d15ea",
   "metadata": {
    "language": "sql",
    "name": "cell2"
   },
   "outputs": [],
   "source": "---> create the Raw Menu Table\nCREATE OR REPLACE TABLE tasty_bytes_sample_data.raw_pos.menu\n(\n    menu_id NUMBER(19,0),\n    menu_type_id NUMBER(38,0),\n    menu_type VARCHAR(16777216),\n    truck_brand_name VARCHAR(16777216),\n    menu_item_id NUMBER(38,0),\n    menu_item_name VARCHAR(16777216),\n    item_category VARCHAR(16777216),\n    item_subcategory VARCHAR(16777216),\n    cost_of_goods_usd NUMBER(38,4),\n    sale_price_usd NUMBER(38,4),\n    menu_item_health_metrics_obj VARIANT\n);",
   "execution_count": null
  },
  {
   "cell_type": "code",
   "id": "69aac270-2bcc-456f-b8a0-93cf3a4b0542",
   "metadata": {
    "language": "sql",
    "name": "cell3",
    "codeCollapsed": false
   },
   "outputs": [],
   "source": "CREATE OR REPLACE STAGE tasty_bytes_sample_data.public.blob_stage\nurl = 's3://sfquickstarts/tastybytes/'\nfile_format = (type = csv);b",
   "execution_count": null
  },
  {
   "cell_type": "code",
   "id": "e23f2730-0894-4847-ad88-5d27bb66888c",
   "metadata": {
    "language": "sql",
    "name": "cell4"
   },
   "outputs": [],
   "source": "LIST @tasty_bytes_sample_data.public.blob_stage/",
   "execution_count": null
  },
  {
   "cell_type": "code",
   "id": "0c16f556-7504-4cfe-a7bf-9420ada481f8",
   "metadata": {
    "language": "sql",
    "name": "cell5"
   },
   "outputs": [],
   "source": "copy into tasty_bytes_sample_data.raw_pos.menu from @tasty_bytes_sample_data.public.blob_stage/raw_pos/menu/;",
   "execution_count": null
  },
  {
   "cell_type": "code",
   "id": "f61487a4-b399-40ce-9b5c-13e2b2f66173",
   "metadata": {
    "language": "sql",
    "name": "cell6"
   },
   "outputs": [],
   "source": "select * from tasty_bytes_sample_data.raw_pos.menu",
   "execution_count": null
  }
 ]
}